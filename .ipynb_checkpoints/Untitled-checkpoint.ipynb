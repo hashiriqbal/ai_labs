{
 "cells": [
  {
   "cell_type": "code",
   "execution_count": 1,
   "metadata": {
    "collapsed": false
   },
   "outputs": [
    {
     "name": "stdout",
     "output_type": "stream",
     "text": [
      "enter no:23\n",
      "odd\n"
     ]
    }
   ],
   "source": [
    "a=int(input(\"enter no:\"))\n",
    "if(a%2)==0:\n",
    "    print(\"even\")\n",
    "else:\n",
    "    print(\"odd\")"
   ]
  },
  {
   "cell_type": "code",
   "execution_count": 3,
   "metadata": {
    "collapsed": false
   },
   "outputs": [
    {
     "name": "stdout",
     "output_type": "stream",
     "text": [
      "enter month no:4\n",
      "winter\n"
     ]
    }
   ],
   "source": [
    "a=int(input(\"enter month no:\"))\n",
    "if (a>=1 and a<=3):\n",
    "    print(\"summer\")\n",
    "elif(a>3 and a<=6):\n",
    "    print(\"winter\")\n",
    "elif(a>=7 and a<9):\n",
    "    print(\"autom\")"
   ]
  },
  {
   "cell_type": "code",
   "execution_count": 9,
   "metadata": {
    "collapsed": false
   },
   "outputs": [
    {
     "name": "stdout",
     "output_type": "stream",
     "text": [
      "enter year2016\n",
      "leap\n"
     ]
    }
   ],
   "source": [
    "a=int(input(\"enter year\"))\n",
    "if a%4==0:\n",
    "    print(\"leap\")\n",
    "elif a%100==0:\n",
    "    print(\"leap\")\n",
    "elif a%400==0:\n",
    "    print(\"leap\")\n",
    "else:\n",
    "    print(\"not leap\")"
   ]
  },
  {
   "cell_type": "code",
   "execution_count": 12,
   "metadata": {
    "collapsed": false
   },
   "outputs": [
    {
     "name": "stdout",
     "output_type": "stream",
     "text": [
      "enter a string:h  jhk78\n",
      "letter 4\n",
      "digit 2\n"
     ]
    }
   ],
   "source": [
    "a=input(\"enter a string:\")\n",
    "l=0\n",
    "d=0\n",
    "\n",
    "for i in a:\n",
    "    if i.isalpha():\n",
    "        l=l+1\n",
    "    elif i.isdigit():\n",
    "        d=d+1\n",
    "    \n",
    "print(\"letter\",l)\n",
    "print(\"digit\",d)"
   ]
  },
  {
   "cell_type": "code",
   "execution_count": 14,
   "metadata": {
    "collapsed": false
   },
   "outputs": [
    {
     "name": "stdout",
     "output_type": "stream",
     "text": [
      "enter sentence:345ejfefjejhihf\n"
     ]
    },
    {
     "data": {
      "text/plain": [
       "{'345ejfefjejhihf': 1}"
      ]
     },
     "execution_count": 14,
     "metadata": {},
     "output_type": "execute_result"
    }
   ],
   "source": [
    "a=input(\"enter sentence:\")\n",
    "d={}\n",
    "for word in a.split():\n",
    "    d[word]=d.get(word,0)+1\n",
    "d"
   ]
  },
  {
   "cell_type": "code",
   "execution_count": 15,
   "metadata": {
    "collapsed": false
   },
   "outputs": [
    {
     "data": {
      "text/plain": [
       "'olleh'"
      ]
     },
     "execution_count": 15,
     "metadata": {},
     "output_type": "execute_result"
    }
   ],
   "source": [
    "l= \"hello\"\n",
    "l[-1::-1]"
   ]
  },
  {
   "cell_type": "code",
   "execution_count": null,
   "metadata": {
    "collapsed": true
   },
   "outputs": [],
   "source": []
  }
 ],
 "metadata": {
  "kernelspec": {
   "display_name": "Python [Root]",
   "language": "python",
   "name": "Python [Root]"
  },
  "language_info": {
   "codemirror_mode": {
    "name": "ipython",
    "version": 3
   },
   "file_extension": ".py",
   "mimetype": "text/x-python",
   "name": "python",
   "nbconvert_exporter": "python",
   "pygments_lexer": "ipython3",
   "version": "3.5.2"
  }
 },
 "nbformat": 4,
 "nbformat_minor": 0
}
